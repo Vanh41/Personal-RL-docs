{
 "cells": [
  {
   "cell_type": "markdown",
   "metadata": {},
   "source": [
    "### LU analysis"
   ]
  },
  {
   "cell_type": "code",
   "execution_count": null,
   "metadata": {},
   "outputs": [],
   "source": [
    "import numpy as np\n",
    "from scipy.linalg import lu\n",
    "\n",
    "def solve_system_of_eq():\n",
    "    n = int(input(\"Enter size of matrix (n): \"))\n",
    "    print(f\"Enter {n}x{n} coefficient matrix A (row by row):\")\n",
    "    A = []\n",
    "    for i in range(n):\n",
    "        row = list(map(float, input().split()))\n",
    "        if len(row) != n:\n",
    "            raise ValueError(f\"Each row must have {n} elements\")\n",
    "        A.append(row)\n",
    "    A = np.array(A)\n",
    "    print(f\"Enter {n} elements of vector b:\")\n",
    "    b = list(map(float, input().split()))\n",
    "    if len(b) != n:\n",
    "        raise ValueError(f\"Vector b must have {n} elements\")\n",
    "    b = np.array(b)\n",
    "\n",
    "    try:\n",
    "        P, L, U = lu(A)\n",
    "\n",
    "        # Step 1: \n",
    "        Pb = np.dot(P, b)\n",
    "        y = np.zeros(n)\n",
    "        for i in range(n):\n",
    "            y[i] = Pb[i]\n",
    "            for j in range(i):\n",
    "                y[i] -= L[i,j] * y[j]\n",
    "\n",
    "        # Step 2:\n",
    "        x = np.zeros(n)\n",
    "        for i in range(n-1, -1, -1):\n",
    "            x[i] = y[i]\n",
    "            for j in range(i+1, n):\n",
    "                x[i] -= U[i,j] * x[j]\n",
    "            x[i] /= U[i,i]\n",
    "\n",
    "        return x\n",
    "\n",
    "    except np.linalg.LinAlgError:\n",
    "        return \"Matrix is singular. System cannot be solved using LU decomposition.\"\n",
    "\n",
    "print(solve_system_of_eq())"
   ]
  },
  {
   "cell_type": "markdown",
   "metadata": {},
   "source": [
    "### Solve linear eq\n"
   ]
  },
  {
   "cell_type": "code",
   "execution_count": null,
   "metadata": {},
   "outputs": [
    {
     "name": "stdout",
     "output_type": "stream",
     "text": [
      "[[2, 1], [3, 4]] \n",
      "\n",
      "[[5], [10]] \n",
      "\n",
      "[[2.]\n",
      " [1.]]\n"
     ]
    }
   ],
   "source": [
    "import numpy as np\n",
    "\n",
    "\n",
    "\n",
    "n = int(input())\n",
    "\n",
    "a = []\n",
    "b = []\n",
    "\n",
    "for i in range(n):\n",
    "    temp = []\n",
    "    for j in range(n):\n",
    "        ele = int(input())\n",
    "        temp.append(ele)\n",
    "    a.append(temp)\n",
    "print(a, \"\\n\")\n",
    "for i in range(n):\n",
    "    temp = []\n",
    "    ele = int(input())\n",
    "    temp.append(ele)\n",
    "    b.append(temp)\n",
    "\n",
    "print(b, \"\\n\")\n",
    "x = np.matmul(np.linalg.inv(a),b)\n",
    "\n",
    "print(x)\n"
   ]
  },
  {
   "cell_type": "code",
   "execution_count": null,
   "metadata": {},
   "outputs": [],
   "source": [
    "import numpy as np\n",
    "\n",
    "n = int(input())\n",
    "a = []\n",
    "b = []\n",
    "for i in range(n):\n",
    "    temp = []\n",
    "    for j in range(n):\n",
    "        ele = int(input())\n",
    "        temp.append(ele)\n",
    "    a.append(temp)\n",
    "print(a, \"\\n\")\n",
    "for i in range(n):\n",
    "    temp = []\n",
    "    ele = int(input())\n",
    "    temp.append(ele)\n",
    "    b.append(temp)\n",
    "\n",
    "    \n",
    "\n",
    "for i in range(n-1):\n",
    "    \n",
    "\n",
    "print(b, \"\\n\")\n",
    "x = np.matmul(np.linalg.inv(a),b)\n",
    "\n",
    "print(x)\n"
   ]
  },
  {
   "cell_type": "code",
   "execution_count": 62,
   "metadata": {},
   "outputs": [
    {
     "name": "stdout",
     "output_type": "stream",
     "text": [
      "[[2 1]\n",
      " [3 4]]\n",
      "[[ 5]\n",
      " [10]]\n",
      "[2. 1.]\n"
     ]
    },
    {
     "name": "stderr",
     "output_type": "stream",
     "text": [
      "/var/folders/7q/mzsxqp0j31v2vfhlflpzkt9w0000gn/T/ipykernel_89424/612141869.py:28: DeprecationWarning: Conversion of an array with ndim > 0 to a scalar is deprecated, and will error in future. Ensure you extract a single element from your array before performing this operation. (Deprecated NumPy 1.25.)\n",
      "  y[i] = Pb[i]\n"
     ]
    }
   ],
   "source": [
    "import numpy as np\n",
    "from scipy.linalg import lu\n",
    "\n",
    "n = int(input())\n",
    "a = []\n",
    "b = []\n",
    "for i in range(n):\n",
    "    temp = []\n",
    "    for j in range(n):\n",
    "        ele = int(input())\n",
    "        temp.append(ele)\n",
    "    a.append(temp)\n",
    "    \n",
    "for i in range(n):\n",
    "    temp = []\n",
    "    ele = int(input())\n",
    "    temp.append(ele)\n",
    "    b.append(temp)\n",
    "A = np.array(a)\n",
    "B = np.array(b)\n",
    "\n",
    "P,L,U = lu(A)   \n",
    "\n",
    "# forward elimination\n",
    "Pb = np.dot(P, B)\n",
    "y = np.zeros(n)\n",
    "for i in range(n):\n",
    "    y[i] = Pb[i]\n",
    "    for j in range(i):\n",
    "        y[i] -= L[i, j]*y[j]\n",
    "# backward substitution\n",
    "x = np.zeros(n)\n",
    "for i in range(n-1, -1, -1):\n",
    "    x[i] = y[i]\n",
    "    for j in range(i+1, n):\n",
    "        x[i] -= U[i, j] * x[j]\n",
    "    x[i] /= U[i, i]\n",
    "print(A)\n",
    "print(B)\n",
    "print(x)"
   ]
  },
  {
   "cell_type": "code",
   "execution_count": 64,
   "metadata": {},
   "outputs": [
    {
     "name": "stdout",
     "output_type": "stream",
     "text": [
      "[[0. 1.]\n",
      " [1. 0.]]\n",
      "[[1.         0.        ]\n",
      " [0.66666667 1.        ]]\n",
      "[2. 1.]\n"
     ]
    },
    {
     "name": "stderr",
     "output_type": "stream",
     "text": [
      "/var/folders/7q/mzsxqp0j31v2vfhlflpzkt9w0000gn/T/ipykernel_89424/2312090255.py:11: DeprecationWarning: Conversion of an array with ndim > 0 to a scalar is deprecated, and will error in future. Ensure you extract a single element from your array before performing this operation. (Deprecated NumPy 1.25.)\n",
      "  y[i] = Pb[i]\n"
     ]
    }
   ],
   "source": [
    "import numpy as np\n",
    "from scipy.linalg import lu\n",
    "\n",
    "A = np.array([[2, 1], [3, 4]])\n",
    "B = np.array([[5],[10]]).astype(float)\n",
    "P,L,U = lu(A)   \n",
    "\n",
    "Pb = np.dot(P, B)\n",
    "y = np.zeros(n)\n",
    "for i in range(n):\n",
    "    y[i] = Pb[i]\n",
    "    for j in range(i):\n",
    "        y[i] -= L[i, j]*y[j]\n",
    "# backward substitution\n",
    "x = np.zeros(n)\n",
    "for i in range(n-1, -1, -1):\n",
    "    x[i] = y[i]\n",
    "    for j in range(i+1, n):\n",
    "        x[i] -= U[i, j] * x[j]\n",
    "    x[i] /= U[i, i]\n",
    "print(P)\n",
    "print(L)\n",
    "print(x)\n",
    "\n"
   ]
  },
  {
   "cell_type": "code",
   "execution_count": null,
   "metadata": {},
   "outputs": [],
   "source": []
  }
 ],
 "metadata": {
  "kernelspec": {
   "display_name": "base",
   "language": "python",
   "name": "python3"
  },
  "language_info": {
   "codemirror_mode": {
    "name": "ipython",
    "version": 3
   },
   "file_extension": ".py",
   "mimetype": "text/x-python",
   "name": "python",
   "nbconvert_exporter": "python",
   "pygments_lexer": "ipython3",
   "version": "3.12.4"
  }
 },
 "nbformat": 4,
 "nbformat_minor": 2
}
