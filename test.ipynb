{
 "cells": [
  {
   "cell_type": "code",
   "execution_count": 1,
   "metadata": {},
   "outputs": [
    {
     "name": "stdout",
     "output_type": "stream",
     "text": [
      "tensor([1., 1., 1., 1., 1.])\n"
     ]
    }
   ],
   "source": [
    "import torch\n",
    "import torch.nn as nn\n",
    "import numpy as np\n",
    "import math\n",
    "\n",
    "a = [1, 2, 3, 4, 5]\n",
    "b = [2, 3, 4, 5, 6]\n",
    "a = torch.FloatTensor(a)\n",
    "b = torch.FloatTensor(b)\n",
    "c = b - a\n",
    "print(c)\n"
   ]
  },
  {
   "cell_type": "code",
   "execution_count": null,
   "metadata": {},
   "outputs": [],
   "source": []
  },
  {
   "cell_type": "code",
   "execution_count": 2,
   "metadata": {},
   "outputs": [],
   "source": [
    "import gymnasium as gym\n",
    "import numpy as np\n",
    "import torch\n",
    "import torch.nn as nn\n",
    "import torch.optim as optim\n",
    "import random\n",
    "from collections import deque\n",
    "\n",
    "\n",
    "class Network(nn.Module):\n",
    "    def __init__(self):\n",
    "        super().__init__()\n",
    "        self.flatten = nn.Flatten()\n",
    "        self.network = nn.Sequential(\n",
    "            nn.Linear(1, 128),\n",
    "            nn.ReLU(),\n",
    "            nn.Linear(128, 128),\n",
    "            nn.ReLU(),\n",
    "            nn.Linear(128, 1),\n",
    "        )\n",
    "    def forward(self, x):\n",
    "        x = self.flatten()\n",
    "        return self.network(x)"
   ]
  },
  {
   "cell_type": "code",
   "execution_count": 3,
   "metadata": {},
   "outputs": [
    {
     "name": "stdout",
     "output_type": "stream",
     "text": [
      "Network(\n",
      "  (flatten): Flatten(start_dim=1, end_dim=-1)\n",
      "  (network): Sequential(\n",
      "    (0): Linear(in_features=1, out_features=128, bias=True)\n",
      "    (1): ReLU()\n",
      "    (2): Linear(in_features=128, out_features=128, bias=True)\n",
      "    (3): ReLU()\n",
      "    (4): Linear(in_features=128, out_features=1, bias=True)\n",
      "  )\n",
      ")\n"
     ]
    }
   ],
   "source": [
    "model = Network().to(device = 'cpu')\n",
    "print(model)"
   ]
  },
  {
   "cell_type": "code",
   "execution_count": 4,
   "metadata": {},
   "outputs": [
    {
     "name": "stdout",
     "output_type": "stream",
     "text": [
      "tensor([1., 1., 1., 1., 1.])\n",
      "tensor([0., 0., 0.])\n",
      "tensor(3.0723, grad_fn=<BinaryCrossEntropyWithLogitsBackward0>)\n",
      "tensor([[0.3120, 0.3167, 0.3230],\n",
      "        [0.3120, 0.3167, 0.3230],\n",
      "        [0.3120, 0.3167, 0.3230],\n",
      "        [0.3120, 0.3167, 0.3230],\n",
      "        [0.3120, 0.3167, 0.3230]])\n",
      "tensor([0.3120, 0.3167, 0.3230])\n"
     ]
    }
   ],
   "source": [
    "x = torch.ones(5)\n",
    "print(x)\n",
    "y = torch.zeros(3)\n",
    "print(y)\n",
    "w = torch.rand(5, 3, requires_grad=True)\n",
    "b = torch.rand(3, requires_grad=True)\n",
    "z = torch.matmul(x, w) + b\n",
    "loss = torch.nn.functional.binary_cross_entropy_with_logits(z, y)\n",
    "loss.backward()\n",
    "print(loss)\n",
    "print(w.grad)\n",
    "print(b.grad)"
   ]
  },
  {
   "cell_type": "code",
   "execution_count": 11,
   "metadata": {},
   "outputs": [
    {
     "name": "stdout",
     "output_type": "stream",
     "text": [
      "tensor([-1.,  0.,  1.,  2.])\n"
     ]
    }
   ],
   "source": [
    "import torch\n",
    "\n",
    "ok = [1, 2, 3, 4]\n",
    "ok = torch.FloatTensor(ok)\n",
    "values = [2, 3, 4, 5]\n",
    "values = torch.FloatTensor(values)\n",
    "advantages = ok - 2\n",
    "print(advantages)"
   ]
  },
  {
   "cell_type": "code",
   "execution_count": 1,
   "metadata": {},
   "outputs": [
    {
     "name": "stdout",
     "output_type": "stream",
     "text": [
      "Giá trị tối ưu của x: 0.7250055433087356\n",
      "Giá trị nhỏ nhất của f(x): -0.4783617166860751\n"
     ]
    },
    {
     "data": {
      "image/png": "[encoded data removed]",
      "text/plain": [
       "<Figure size 640x480 with 1 Axes>"
      ]
     },
     "metadata": {},
     "output_type": "display_data"
    }
   ],
   "source": [
    "import numpy as np\n",
    "import matplotlib.pyplot as plt\n",
    "\n",
    "# Định nghĩa hàm f(x) cần tối ưu (hàm cần tìm giá trị nhỏ nhất)\n",
    "def f(x):\n",
    "    return np.sin(2 * np.pi * x) * np.exp(-x)\n",
    "\n",
    "# Thông số thuật toán EP\n",
    "num_generations = 100   # Số thế hệ tối đa\n",
    "population_size = 20    # Số cá thể trong quần thể\n",
    "mutation_std = 0.1      # Độ lệch chuẩn của đột biến Gaussian\n",
    "search_range = (0, 2)   # Giới hạn tìm kiếm của x\n",
    "\n",
    "# Khởi tạo quần thể ban đầu (ngẫu nhiên trong khoảng [0,2])\n",
    "population = np.random.uniform(search_range[0], search_range[1], population_size)\n",
    "\n",
    "# Lưu lại lịch sử giá trị nhỏ nhất của f(x) theo từng thế hệ\n",
    "best_fitness_history = []\n",
    "\n",
    "for generation in range(num_generations):\n",
    "    # Tính giá trị f(x) cho từng cá thể\n",
    "    fitness = f(population)\n",
    "\n",
    "    # Lưu lại cá thể tốt nhất trong thế hệ hiện tại\n",
    "    best_fitness_history.append(np.min(fitness))\n",
    "\n",
    "    # Thực hiện đột biến Gaussian\n",
    "    mutations = np.random.normal(0, mutation_std, population_size)\n",
    "    offspring = population + mutations\n",
    "\n",
    "    # Giới hạn giá trị x trong khoảng [0,2]\n",
    "    offspring = np.clip(offspring, search_range[0], search_range[1])\n",
    "\n",
    "    # Chọn những cá thể có giá trị nhỏ nhất của f(x)\n",
    "    combined_population = np.concatenate((population, offspring))\n",
    "    combined_fitness = f(combined_population)\n",
    "\n",
    "    # Chọn lại quần thể bằng cách lấy N cá thể có f(x) nhỏ nhất\n",
    "    best_indices = np.argsort(combined_fitness)[:population_size]\n",
    "    population = combined_population[best_indices]\n",
    "\n",
    "# Kết quả cuối cùng\n",
    "best_x = population[np.argmin(f(population))]\n",
    "best_y = f(best_x)\n",
    "\n",
    "print(f\"Giá trị tối ưu của x: {best_x}\")\n",
    "print(f\"Giá trị nhỏ nhất của f(x): {best_y}\")\n",
    "\n",
    "# Vẽ biểu đồ quá trình tối ưu\n",
    "plt.plot(best_fitness_history, label=\"Best f(x)\")\n",
    "plt.xlabel(\"Generations\")\n",
    "plt.ylabel(\"Best f(x)\")\n",
    "plt.title(\"Quá trình tối ưu f(x) bằng Evolutionary Programming\")\n",
    "plt.legend()\n",
    "plt.show()\n"
   ]
  }
 ],
 "metadata": {
  "kernelspec": {
   "display_name": "base",
   "language": "python",
   "name": "python3"
  },
  "language_info": {
   "codemirror_mode": {
    "name": "ipython",
    "version": 3
   },
   "file_extension": ".py",
   "mimetype": "text/x-python",
   "name": "python",
   "nbconvert_exporter": "python",
   "pygments_lexer": "ipython3",
   "version": "3.12.4"
  }
 },
 "nbformat": 4,
 "nbformat_minor": 2
}
